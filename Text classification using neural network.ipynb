{
 "cells": [
  {
   "cell_type": "code",
   "execution_count": 1,
   "metadata": {},
   "outputs": [],
   "source": [
    "import pandas as pd\n",
    "import numpy as np"
   ]
  },
  {
   "cell_type": "code",
   "execution_count": 2,
   "metadata": {},
   "outputs": [
    {
     "data": {
      "text/html": [
       "<div>\n",
       "<style scoped>\n",
       "    .dataframe tbody tr th:only-of-type {\n",
       "        vertical-align: middle;\n",
       "    }\n",
       "\n",
       "    .dataframe tbody tr th {\n",
       "        vertical-align: top;\n",
       "    }\n",
       "\n",
       "    .dataframe thead th {\n",
       "        text-align: right;\n",
       "    }\n",
       "</style>\n",
       "<table border=\"1\" class=\"dataframe\">\n",
       "  <thead>\n",
       "    <tr style=\"text-align: right;\">\n",
       "      <th></th>\n",
       "      <th>text</th>\n",
       "      <th>label</th>\n",
       "    </tr>\n",
       "  </thead>\n",
       "  <tbody>\n",
       "    <tr>\n",
       "      <th>0</th>\n",
       "      <td>Cairn shares slump on oil setback\\n\\nShares in...</td>\n",
       "      <td>business</td>\n",
       "    </tr>\n",
       "    <tr>\n",
       "      <th>1</th>\n",
       "      <td>Egypt to sell off state-owned bank\\n\\nThe Egyp...</td>\n",
       "      <td>business</td>\n",
       "    </tr>\n",
       "    <tr>\n",
       "      <th>2</th>\n",
       "      <td>Cairn shares up on new oil find\\n\\nShares in C...</td>\n",
       "      <td>business</td>\n",
       "    </tr>\n",
       "    <tr>\n",
       "      <th>3</th>\n",
       "      <td>Low-cost airlines hit Eurotunnel\\n\\nChannel Tu...</td>\n",
       "      <td>business</td>\n",
       "    </tr>\n",
       "    <tr>\n",
       "      <th>4</th>\n",
       "      <td>Parmalat to return to stockmarket\\n\\nParmalat,...</td>\n",
       "      <td>business</td>\n",
       "    </tr>\n",
       "  </tbody>\n",
       "</table>\n",
       "</div>"
      ],
      "text/plain": [
       "                                                text     label\n",
       "0  Cairn shares slump on oil setback\\n\\nShares in...  business\n",
       "1  Egypt to sell off state-owned bank\\n\\nThe Egyp...  business\n",
       "2  Cairn shares up on new oil find\\n\\nShares in C...  business\n",
       "3  Low-cost airlines hit Eurotunnel\\n\\nChannel Tu...  business\n",
       "4  Parmalat to return to stockmarket\\n\\nParmalat,...  business"
      ]
     },
     "execution_count": 2,
     "metadata": {},
     "output_type": "execute_result"
    }
   ],
   "source": [
    "bbc_mixed=pd.read_csv('bbc_news_mixed.csv')\n",
    "bbc_mixed.head()"
   ]
  },
  {
   "cell_type": "markdown",
   "metadata": {},
   "source": [
    "## Performing a text classification on the given dataset, using simple neural networks\n",
    "- Before performing text classification, we need to preprocess the text data and then pass it to our neural network\n",
    "- first we need to label encode our target column 'Label' \n",
    "- we need to convert the text column to sequence of tokens \n",
    "- padding the sequences to make uniform length"
   ]
  },
  {
   "cell_type": "code",
   "execution_count": 3,
   "metadata": {},
   "outputs": [
    {
     "name": "stderr",
     "output_type": "stream",
     "text": [
      "Using TensorFlow backend.\n"
     ]
    }
   ],
   "source": [
    "#Label encoding \n",
    "from sklearn.preprocessing import LabelEncoder\n",
    "from keras.utils import to_categorical\n",
    "\n",
    "labelcode=LabelEncoder()\n",
    "\n",
    "bbc_mixed.label=labelcode.fit_transform(bbc_mixed.label)\n",
    "\n",
    "y=to_categorical(bbc_mixed.label)"
   ]
  },
  {
   "cell_type": "code",
   "execution_count": 4,
   "metadata": {},
   "outputs": [
    {
     "data": {
      "text/plain": [
       "array([[1., 0., 0., 0., 0.],\n",
       "       [1., 0., 0., 0., 0.],\n",
       "       [1., 0., 0., 0., 0.],\n",
       "       ...,\n",
       "       [0., 0., 0., 0., 1.],\n",
       "       [0., 0., 0., 0., 1.],\n",
       "       [0., 0., 0., 0., 1.]], dtype=float32)"
      ]
     },
     "execution_count": 4,
     "metadata": {},
     "output_type": "execute_result"
    }
   ],
   "source": [
    "y"
   ]
  },
  {
   "cell_type": "code",
   "execution_count": 5,
   "metadata": {},
   "outputs": [],
   "source": [
    "#converting the text into sequence of tokens\n",
    "\n",
    "from sklearn.model_selection  import train_test_split\n",
    "\n",
    "from keras.preprocessing.text import Tokenizer\n",
    "\n",
    "\n",
    "x_train,x_test,y_train,y_test=train_test_split(bbc_mixed['text'],y,test_size=0.2,random_state=42)\n",
    "total_x=x_train.append(x_test)\n",
    "\n",
    "\n",
    "tokenizer=Tokenizer()\n",
    "tokenizer.fit_on_texts(total_x)\n",
    "\n",
    "#converting text to sequence of tokens\n",
    "x_train_tokens=tokenizer.texts_to_sequences(x_train)\n",
    "x_test_tokens=tokenizer.texts_to_sequences(x_test)\n",
    "\n",
    "# calculate maximum length of sequence and vocab size\n",
    "max_len=total_x.str.split().apply(lambda x: len(x)).max()\n",
    "vocab_size = len(tokenizer.word_index)+1"
   ]
  },
  {
   "cell_type": "code",
   "execution_count": 6,
   "metadata": {},
   "outputs": [
    {
     "name": "stdout",
     "output_type": "stream",
     "text": [
      "(1780, 4432)\n",
      "(445, 4432)\n"
     ]
    }
   ],
   "source": [
    "#padding sequences to uniform length\n",
    "from keras.preprocessing.sequence import pad_sequences\n",
    "\n",
    "x_train_pad=pad_sequences(x_train_tokens,maxlen=max_len,padding='post')\n",
    "x_test_pad=pad_sequences(x_test_tokens,maxlen=max_len,padding='post')\n",
    "print(x_train_pad.shape)\n",
    "print(x_test_pad.shape)"
   ]
  },
  {
   "cell_type": "code",
   "execution_count": 7,
   "metadata": {},
   "outputs": [
    {
     "data": {
      "text/plain": [
       "32360"
      ]
     },
     "execution_count": 7,
     "metadata": {},
     "output_type": "execute_result"
    }
   ],
   "source": [
    "vocab_size "
   ]
  },
  {
   "cell_type": "code",
   "execution_count": 8,
   "metadata": {},
   "outputs": [],
   "source": [
    "from keras.models import Sequential\n",
    "from keras.layers import Dense,Flatten,Embedding\n",
    "\n",
    "#embedding size\n",
    "embedding_size=100\n",
    "vocab_100=int(vocab_size/100)\n",
    "\n",
    "#initializing the model\n",
    "model=Sequential()\n",
    "model.add(Embedding(vocab_size,embedding_size,input_length=max_len))\n",
    "model.add(Dense(500,activation='relu'))\n",
    "model.add(Dense(vocab_100,activation='relu'))\n",
    "model.add(Flatten())\n",
    "\n",
    "#add final layer with 5 outputs\n",
    "model.add(Dense(5,activation='softmax'))\n",
    "\n",
    "#compiling the model\n",
    "model.compile(loss='categorical_crossentropy',optimizer='adam',metrics=['accuracy'])"
   ]
  },
  {
   "cell_type": "code",
   "execution_count": 9,
   "metadata": {},
   "outputs": [
    {
     "name": "stdout",
     "output_type": "stream",
     "text": [
      "Model: \"sequential_1\"\n",
      "_________________________________________________________________\n",
      "Layer (type)                 Output Shape              Param #   \n",
      "=================================================================\n",
      "embedding_1 (Embedding)      (None, 4432, 100)         3236000   \n",
      "_________________________________________________________________\n",
      "dense_1 (Dense)              (None, 4432, 500)         50500     \n",
      "_________________________________________________________________\n",
      "dense_2 (Dense)              (None, 4432, 323)         161823    \n",
      "_________________________________________________________________\n",
      "flatten_1 (Flatten)          (None, 1431536)           0         \n",
      "_________________________________________________________________\n",
      "dense_3 (Dense)              (None, 5)                 7157685   \n",
      "=================================================================\n",
      "Total params: 10,606,008\n",
      "Trainable params: 10,606,008\n",
      "Non-trainable params: 0\n",
      "_________________________________________________________________\n"
     ]
    }
   ],
   "source": [
    "#checking the models summary\n",
    "model.summary()"
   ]
  },
  {
   "cell_type": "code",
   "execution_count": 10,
   "metadata": {},
   "outputs": [
    {
     "name": "stderr",
     "output_type": "stream",
     "text": [
      "C:\\Users\\Ashitha A Nair\\.conda\\envs\\tensorflow\\lib\\site-packages\\tensorflow_core\\python\\framework\\indexed_slices.py:433: UserWarning: Converting sparse IndexedSlices to a dense Tensor of unknown shape. This may consume a large amount of memory.\n",
      "  \"Converting sparse IndexedSlices to a dense Tensor of unknown shape. \"\n"
     ]
    },
    {
     "name": "stdout",
     "output_type": "stream",
     "text": [
      "Train on 1780 samples, validate on 445 samples\n",
      "Epoch 1/3\n",
      "1780/1780 [==============================] - 127s 71ms/step - loss: 1.6964 - accuracy: 0.3124 - val_loss: 1.2292 - val_accuracy: 0.4517\n",
      "Epoch 2/3\n",
      "1780/1780 [==============================] - 126s 71ms/step - loss: 0.5267 - accuracy: 0.8416 - val_loss: 0.3363 - val_accuracy: 0.8809\n",
      "Epoch 3/3\n",
      "1780/1780 [==============================] - 129s 73ms/step - loss: 0.0258 - accuracy: 0.9938 - val_loss: 0.3353 - val_accuracy: 0.9236\n"
     ]
    },
    {
     "data": {
      "text/plain": [
       "<keras.callbacks.callbacks.History at 0x1c41e970b08>"
      ]
     },
     "execution_count": 10,
     "metadata": {},
     "output_type": "execute_result"
    }
   ],
   "source": [
    "#now we can evaluate the model, as the model is trained\n",
    "model.fit(x_train_pad,y_train,epochs=3,validation_data=[x_test_pad,y_test])"
   ]
  },
  {
   "cell_type": "code",
   "execution_count": null,
   "metadata": {},
   "outputs": [],
   "source": []
  }
 ],
 "metadata": {
  "kernelspec": {
   "display_name": "Python 3",
   "language": "python",
   "name": "python3"
  },
  "language_info": {
   "codemirror_mode": {
    "name": "ipython",
    "version": 3
   },
   "file_extension": ".py",
   "mimetype": "text/x-python",
   "name": "python",
   "nbconvert_exporter": "python",
   "pygments_lexer": "ipython3",
   "version": "3.7.7"
  }
 },
 "nbformat": 4,
 "nbformat_minor": 4
}
